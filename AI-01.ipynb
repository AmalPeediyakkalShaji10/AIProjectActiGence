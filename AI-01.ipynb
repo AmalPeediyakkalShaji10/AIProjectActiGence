{
 "cells": [
  {
   "cell_type": "code",
   "execution_count": 2,
   "id": "a31e7ee2-4493-4fdc-a9c6-3846806ed910",
   "metadata": {},
   "outputs": [
    {
     "name": "stdout",
     "output_type": "stream",
     "text": [
      "Defaulting to user installation because normal site-packages is not writeableNote: you may need to restart the kernel to use updated packages.\n",
      "\n",
      "Requirement already satisfied: yfinance in c:\\users\\aneesh antony\\appdata\\roaming\\python\\python311\\site-packages (0.2.50)\n",
      "Requirement already satisfied: pandas>=1.3.0 in c:\\programdata\\anaconda3\\lib\\site-packages (from yfinance) (1.5.3)\n",
      "Requirement already satisfied: numpy>=1.16.5 in c:\\programdata\\anaconda3\\lib\\site-packages (from yfinance) (1.24.3)\n",
      "Requirement already satisfied: requests>=2.31 in c:\\users\\aneesh antony\\appdata\\roaming\\python\\python311\\site-packages (from yfinance) (2.32.3)\n",
      "Requirement already satisfied: multitasking>=0.0.7 in c:\\users\\aneesh antony\\appdata\\roaming\\python\\python311\\site-packages (from yfinance) (0.0.11)\n",
      "Requirement already satisfied: lxml>=4.9.1 in c:\\programdata\\anaconda3\\lib\\site-packages (from yfinance) (4.9.2)\n",
      "Requirement already satisfied: platformdirs>=2.0.0 in c:\\programdata\\anaconda3\\lib\\site-packages (from yfinance) (2.5.2)\n",
      "Requirement already satisfied: pytz>=2022.5 in c:\\programdata\\anaconda3\\lib\\site-packages (from yfinance) (2022.7)\n",
      "Requirement already satisfied: frozendict>=2.3.4 in c:\\users\\aneesh antony\\appdata\\roaming\\python\\python311\\site-packages (from yfinance) (2.4.6)\n",
      "Requirement already satisfied: peewee>=3.16.2 in c:\\users\\aneesh antony\\appdata\\roaming\\python\\python311\\site-packages (from yfinance) (3.17.8)\n",
      "Requirement already satisfied: beautifulsoup4>=4.11.1 in c:\\programdata\\anaconda3\\lib\\site-packages (from yfinance) (4.12.2)\n",
      "Requirement already satisfied: html5lib>=1.1 in c:\\users\\aneesh antony\\appdata\\roaming\\python\\python311\\site-packages (from yfinance) (1.1)\n",
      "Requirement already satisfied: soupsieve>1.2 in c:\\programdata\\anaconda3\\lib\\site-packages (from beautifulsoup4>=4.11.1->yfinance) (2.4)\n",
      "Requirement already satisfied: six>=1.9 in c:\\programdata\\anaconda3\\lib\\site-packages (from html5lib>=1.1->yfinance) (1.16.0)\n",
      "Requirement already satisfied: webencodings in c:\\programdata\\anaconda3\\lib\\site-packages (from html5lib>=1.1->yfinance) (0.5.1)\n",
      "Requirement already satisfied: python-dateutil>=2.8.1 in c:\\programdata\\anaconda3\\lib\\site-packages (from pandas>=1.3.0->yfinance) (2.8.2)\n",
      "Requirement already satisfied: charset-normalizer<4,>=2 in c:\\programdata\\anaconda3\\lib\\site-packages (from requests>=2.31->yfinance) (2.0.4)\n",
      "Requirement already satisfied: idna<4,>=2.5 in c:\\programdata\\anaconda3\\lib\\site-packages (from requests>=2.31->yfinance) (3.4)\n",
      "Requirement already satisfied: urllib3<3,>=1.21.1 in c:\\programdata\\anaconda3\\lib\\site-packages (from requests>=2.31->yfinance) (1.26.16)\n",
      "Requirement already satisfied: certifi>=2017.4.17 in c:\\programdata\\anaconda3\\lib\\site-packages (from requests>=2.31->yfinance) (2023.5.7)\n"
     ]
    }
   ],
   "source": [
    "pip install yfinance"
   ]
  },
  {
   "cell_type": "code",
   "execution_count": 2,
   "id": "dbede5a2-89af-4bc2-91fc-dd2c43cd2adb",
   "metadata": {},
   "outputs": [
    {
     "name": "stdout",
     "output_type": "stream",
     "text": [
      "Defaulting to user installation because normal site-packages is not writeable\n",
      "Requirement already satisfied: ta in c:\\users\\aneesh antony\\appdata\\roaming\\python\\python311\\site-packages (0.11.0)\n",
      "Requirement already satisfied: numpy in c:\\programdata\\anaconda3\\lib\\site-packages (from ta) (1.24.3)\n",
      "Requirement already satisfied: pandas in c:\\programdata\\anaconda3\\lib\\site-packages (from ta) (1.5.3)\n",
      "Requirement already satisfied: python-dateutil>=2.8.1 in c:\\programdata\\anaconda3\\lib\\site-packages (from pandas->ta) (2.8.2)\n",
      "Requirement already satisfied: pytz>=2020.1 in c:\\programdata\\anaconda3\\lib\\site-packages (from pandas->ta) (2022.7)\n",
      "Requirement already satisfied: six>=1.5 in c:\\programdata\\anaconda3\\lib\\site-packages (from python-dateutil>=2.8.1->pandas->ta) (1.16.0)\n",
      "Note: you may need to restart the kernel to use updated packages.\n"
     ]
    }
   ],
   "source": [
    "pip install  ta"
   ]
  },
  {
   "cell_type": "code",
   "execution_count": 3,
   "id": "2aa84c59-9721-4227-b8a2-a4c5c9cfac4c",
   "metadata": {},
   "outputs": [],
   "source": [
    "import yfinance as yf"
   ]
  },
  {
   "cell_type": "code",
   "execution_count": 61,
   "id": "a4ad3be7-c771-4a75-afc4-0554dd62e6c4",
   "metadata": {},
   "outputs": [
    {
     "name": "stderr",
     "output_type": "stream",
     "text": [
      "\r",
      "[*********************100%***********************]  1 of 1 completed"
     ]
    },
    {
     "name": "stdout",
     "output_type": "stream",
     "text": [
      "          Date         Close\n",
      "212 2024-11-29  97461.523438\n",
      "213 2024-11-30  96449.054688\n",
      "214 2024-12-01  97279.789062\n",
      "215 2024-12-02  95865.304688\n",
      "216 2024-12-03  96002.164062\n"
     ]
    },
    {
     "name": "stderr",
     "output_type": "stream",
     "text": [
      "\n"
     ]
    }
   ],
   "source": [
    "import pandas as pd\n",
    "import numpy as np\n",
    "import matplotlib.pyplot as plt\n",
    "import yfinance as yf\n",
    "\n",
    "# Download BTC-USD data\n",
    "ticker = \"BTC-USD\"\n",
    "data = yf.download(ticker, start=\"2024-05-01\", end=\"2024-12-04\", interval=\"1D\")\n",
    "data = data['Close'].reset_index()\n",
    "data.columns = ['Date', 'Close']\n",
    "print(data.tail())"
   ]
  },
  {
   "cell_type": "code",
   "execution_count": 62,
   "id": "2141d330-329f-4e9f-830c-8e67130d0320",
   "metadata": {},
   "outputs": [
    {
     "name": "stderr",
     "output_type": "stream",
     "text": [
      "\r",
      "[*********************100%***********************]  1 of 1 completed"
     ]
    },
    {
     "name": "stdout",
     "output_type": "stream",
     "text": [
      "RangeIndex(start=0, stop=217, step=1)\n",
      "Price        Date     Adj Close         Close          High           Low  \\\n",
      "Ticker                  BTC-USD       BTC-USD       BTC-USD       BTC-USD   \n",
      "0      2024-05-01  58254.011719  58254.011719  60780.500000  56555.292969   \n",
      "1      2024-05-02  59123.433594  59123.433594  59602.296875  56937.203125   \n",
      "2      2024-05-03  62889.835938  62889.835938  63320.503906  58848.312500   \n",
      "3      2024-05-04  63891.472656  63891.472656  64494.957031  62599.351562   \n",
      "4      2024-05-05  64031.132812  64031.132812  64610.890625  62955.304688   \n",
      "\n",
      "Price           Open       Volume  \n",
      "Ticker       BTC-USD      BTC-USD  \n",
      "0       60609.496094  48439780271  \n",
      "1       58253.703125  32711813559  \n",
      "2       59122.300781  33172023048  \n",
      "3       62891.031250  20620477992  \n",
      "4       63892.453125  18296164805  \n"
     ]
    },
    {
     "name": "stderr",
     "output_type": "stream",
     "text": [
      "\n"
     ]
    }
   ],
   "source": [
    "# Confirm that the index is datetime\n",
    "print(data.index)\n",
    "# If not in datetime format, convert it\n",
    "data.index = pd.to_datetime(data.index)\n",
    "# Now proceed with the rest of the processing\n",
    "\n",
    "data = yf.download(ticker, start=\"2024-05-01\", end=\"2024-12-04\", interval=\"1D\")\n",
    "data.reset_index(inplace=True)\n",
    "\n",
    "print(data.head())"
   ]
  },
  {
   "cell_type": "code",
   "execution_count": 63,
   "id": "2beb7174-61bc-49a2-8368-bdc9809de7d9",
   "metadata": {},
   "outputs": [
    {
     "name": "stderr",
     "output_type": "stream",
     "text": [
      "\r",
      "[*********************100%***********************]  1 of 1 completed"
     ]
    },
    {
     "name": "stdout",
     "output_type": "stream",
     "text": [
      "DatetimeIndex(['2024-05-01', '2024-05-02', '2024-05-03', '2024-05-04',\n",
      "               '2024-05-05', '2024-05-06', '2024-05-07', '2024-05-08',\n",
      "               '2024-05-09', '2024-05-10',\n",
      "               ...\n",
      "               '2024-11-24', '2024-11-25', '2024-11-26', '2024-11-27',\n",
      "               '2024-11-28', '2024-11-29', '2024-11-30', '2024-12-01',\n",
      "               '2024-12-02', '2024-12-03'],\n",
      "              dtype='datetime64[ns]', name='Date', length=217, freq=None)\n"
     ]
    },
    {
     "name": "stderr",
     "output_type": "stream",
     "text": [
      "\n"
     ]
    }
   ],
   "source": [
    "# Download BTC-USD data\n",
    "ticker = \"BTC-USD\"\n",
    "data = yf.download(ticker, start=\"2024-05-01\", end=\"2024-12-04\", interval=\"1D\")\n",
    "\n",
    "# Confirm that the index is a DatetimeIndex\n",
    "print(data.index)  # Should already be datetime\n",
    "data.index = pd.to_datetime(data.index)"
   ]
  },
  {
   "cell_type": "code",
   "execution_count": 64,
   "id": "dc95fd71-9805-4259-a4fa-38ee13ebabb0",
   "metadata": {},
   "outputs": [
    {
     "name": "stdout",
     "output_type": "stream",
     "text": [
      "Price          Adj Close         Close          High           Low  \\\n",
      "Ticker           BTC-USD       BTC-USD       BTC-USD       BTC-USD   \n",
      "Date                                                                 \n",
      "2024-05-01  58254.011719  58254.011719  60780.500000  56555.292969   \n",
      "2024-05-02  59123.433594  59123.433594  59602.296875  56937.203125   \n",
      "2024-05-03  62889.835938  62889.835938  63320.503906  58848.312500   \n",
      "2024-05-04  63891.472656  63891.472656  64494.957031  62599.351562   \n",
      "2024-05-05  64031.132812  64031.132812  64610.890625  62955.304688   \n",
      "\n",
      "Price               Open       Volume  \n",
      "Ticker           BTC-USD      BTC-USD  \n",
      "Date                                   \n",
      "2024-05-01  60609.496094  48439780271  \n",
      "2024-05-02  58253.703125  32711813559  \n",
      "2024-05-03  59122.300781  33172023048  \n",
      "2024-05-04  62891.031250  20620477992  \n",
      "2024-05-05  63892.453125  18296164805  \n"
     ]
    }
   ],
   "source": [
    " print(data.head())"
   ]
  },
  {
   "cell_type": "code",
   "execution_count": 65,
   "id": "395ec367-9acf-438e-a7fe-3959c48c5709",
   "metadata": {},
   "outputs": [
    {
     "name": "stdout",
     "output_type": "stream",
     "text": [
      "Price              Close       Support    Resistance\n",
      "Ticker           BTC-USD                            \n",
      "Date                                                \n",
      "2024-11-29  97461.523438  80474.187500  98997.664062\n",
      "2024-11-30  96449.054688  87250.429688  98997.664062\n",
      "2024-12-01  97279.789062  87250.429688  98997.664062\n",
      "2024-12-02  95865.304688  87250.429688  98997.664062\n",
      "2024-12-03  96002.164062  87250.429688  98997.664062\n"
     ]
    }
   ],
   "source": [
    "# Rolling support and resistance levels\n",
    "data['Support'] = data['Close'].rolling(window=20).min()\n",
    "data['Resistance'] = data['Close'].rolling(window=20).max()\n",
    "\n",
    "print(data[['Close', 'Support', 'Resistance']].tail())"
   ]
  },
  {
   "cell_type": "code",
   "execution_count": 66,
   "id": "46f284c5-b6fb-48fc-8b1b-a59e933d724f",
   "metadata": {},
   "outputs": [
    {
     "name": "stdout",
     "output_type": "stream",
     "text": [
      "Price          Adj Close         Close          High           Low  \\\n",
      "Ticker           BTC-USD       BTC-USD       BTC-USD       BTC-USD   \n",
      "Date                                                                 \n",
      "2024-05-01  58254.011719  58254.011719  60780.500000  56555.292969   \n",
      "2024-05-02  59123.433594  59123.433594  59602.296875  56937.203125   \n",
      "2024-05-03  62889.835938  62889.835938  63320.503906  58848.312500   \n",
      "2024-05-04  63891.472656  63891.472656  64494.957031  62599.351562   \n",
      "2024-05-05  64031.132812  64031.132812  64610.890625  62955.304688   \n",
      "...                  ...           ...           ...           ...   \n",
      "2024-11-29  97461.523438  97461.523438  98693.171875  95407.882812   \n",
      "2024-11-30  96449.054688  96449.054688  97499.343750  96144.218750   \n",
      "2024-12-01  97279.789062  97279.789062  97888.125000  95770.187500   \n",
      "2024-12-02  95865.304688  95865.304688  98152.601562  94482.867188   \n",
      "2024-12-03  96002.164062  96002.164062  96297.203125  93629.562500   \n",
      "\n",
      "Price               Open       Volume       Support    Resistance  \\\n",
      "Ticker           BTC-USD      BTC-USD                               \n",
      "Date                                                                \n",
      "2024-05-01  60609.496094  48439780271           NaN           NaN   \n",
      "2024-05-02  58253.703125  32711813559           NaN           NaN   \n",
      "2024-05-03  59122.300781  33172023048           NaN           NaN   \n",
      "2024-05-04  62891.031250  20620477992           NaN           NaN   \n",
      "2024-05-05  63892.453125  18296164805           NaN           NaN   \n",
      "...                  ...          ...           ...           ...   \n",
      "2024-11-29  95653.953125  54968682476  80474.187500  98997.664062   \n",
      "2024-11-30  97468.812500  31634227866  87250.429688  98997.664062   \n",
      "2024-12-01  96461.335938  36590695296  87250.429688  98997.664062   \n",
      "2024-12-02  97276.007812  72680784305  87250.429688  98997.664062   \n",
      "2024-12-03  95854.593750  67067810961  87250.429688  98997.664062   \n",
      "\n",
      "Price             SMA_20        SMA_50  \n",
      "Ticker                                  \n",
      "Date                                    \n",
      "2024-05-01           NaN           NaN  \n",
      "2024-05-02           NaN           NaN  \n",
      "2024-05-03           NaN           NaN  \n",
      "2024-05-04           NaN           NaN  \n",
      "2024-05-05           NaN           NaN  \n",
      "...                  ...           ...  \n",
      "2024-11-29  92555.998438  78382.731484  \n",
      "2024-11-30  93354.741797  79062.810781  \n",
      "2024-12-01  93783.657031  79744.546094  \n",
      "2024-12-02  94179.131641  80404.824688  \n",
      "2024-12-03  94450.031641  81003.945469  \n",
      "\n",
      "[217 rows x 10 columns]\n",
      "<class 'pandas.core.frame.DataFrame'>\n"
     ]
    }
   ],
   "source": [
    "# Simple Moving Averages\n",
    "data['SMA_20'] = data['Close'].rolling(window=20).mean()\n",
    "data['SMA_50'] = data['Close'].rolling(window=50).mean()\n",
    "print(data.head(1000))\n",
    "print(type(data['Close']))"
   ]
  },
  {
   "cell_type": "code",
   "execution_count": 67,
   "id": "781974c1-8026-44d5-9a4a-4d4f667ea94b",
   "metadata": {},
   "outputs": [],
   "source": [
    "from ta.momentum import RSIIndicator"
   ]
  },
  {
   "cell_type": "code",
   "execution_count": 68,
   "id": "91658219-ff55-4043-b58f-b48feed537cf",
   "metadata": {},
   "outputs": [
    {
     "name": "stdout",
     "output_type": "stream",
     "text": [
      "MultiIndex([( 'Adj Close', 'BTC-USD'),\n",
      "            (     'Close', 'BTC-USD'),\n",
      "            (      'High', 'BTC-USD'),\n",
      "            (       'Low', 'BTC-USD'),\n",
      "            (      'Open', 'BTC-USD'),\n",
      "            (    'Volume', 'BTC-USD'),\n",
      "            (   'Support',        ''),\n",
      "            ('Resistance',        ''),\n",
      "            (    'SMA_20',        ''),\n",
      "            (    'SMA_50',        '')],\n",
      "           names=['Price', 'Ticker'])\n"
     ]
    }
   ],
   "source": [
    "print(data.columns)"
   ]
  },
  {
   "cell_type": "code",
   "execution_count": 69,
   "id": "994d2a04-9c07-4744-a314-0eea4379d6b8",
   "metadata": {},
   "outputs": [
    {
     "name": "stdout",
     "output_type": "stream",
     "text": [
      "Index(['Adj Close_BTC-USD', 'Close_BTC-USD', 'High_BTC-USD', 'Low_BTC-USD',\n",
      "       'Open_BTC-USD', 'Volume_BTC-USD', 'Support', 'Resistance', 'SMA_20',\n",
      "       'SMA_50'],\n",
      "      dtype='object')\n"
     ]
    }
   ],
   "source": [
    "# Flatten the MultiIndex columns\n",
    "data.columns = ['_'.join(filter(None, col)).strip() for col in data.columns]\n",
    "\n",
    "# Print the updated column names\n",
    "print(data.columns)"
   ]
  },
  {
   "cell_type": "code",
   "execution_count": 70,
   "id": "693c7756-316d-48ab-a366-fee26a1a0095",
   "metadata": {},
   "outputs": [
    {
     "name": "stdout",
     "output_type": "stream",
     "text": [
      "            Adj Close_BTC-USD  Close_BTC-USD  High_BTC-USD   Low_BTC-USD  \\\n",
      "Date                                                                       \n",
      "2024-05-01       58254.011719   58254.011719  60780.500000  56555.292969   \n",
      "2024-05-02       59123.433594   59123.433594  59602.296875  56937.203125   \n",
      "2024-05-03       62889.835938   62889.835938  63320.503906  58848.312500   \n",
      "2024-05-04       63891.472656   63891.472656  64494.957031  62599.351562   \n",
      "2024-05-05       64031.132812   64031.132812  64610.890625  62955.304688   \n",
      "...                       ...            ...           ...           ...   \n",
      "2024-11-29       97461.523438   97461.523438  98693.171875  95407.882812   \n",
      "2024-11-30       96449.054688   96449.054688  97499.343750  96144.218750   \n",
      "2024-12-01       97279.789062   97279.789062  97888.125000  95770.187500   \n",
      "2024-12-02       95865.304688   95865.304688  98152.601562  94482.867188   \n",
      "2024-12-03       96002.164062   96002.164062  96297.203125  93629.562500   \n",
      "\n",
      "            Open_BTC-USD  Volume_BTC-USD       Support    Resistance  \\\n",
      "Date                                                                   \n",
      "2024-05-01  60609.496094     48439780271           NaN           NaN   \n",
      "2024-05-02  58253.703125     32711813559           NaN           NaN   \n",
      "2024-05-03  59122.300781     33172023048           NaN           NaN   \n",
      "2024-05-04  62891.031250     20620477992           NaN           NaN   \n",
      "2024-05-05  63892.453125     18296164805           NaN           NaN   \n",
      "...                  ...             ...           ...           ...   \n",
      "2024-11-29  95653.953125     54968682476  80474.187500  98997.664062   \n",
      "2024-11-30  97468.812500     31634227866  87250.429688  98997.664062   \n",
      "2024-12-01  96461.335938     36590695296  87250.429688  98997.664062   \n",
      "2024-12-02  97276.007812     72680784305  87250.429688  98997.664062   \n",
      "2024-12-03  95854.593750     67067810961  87250.429688  98997.664062   \n",
      "\n",
      "                  SMA_20        SMA_50        RSI  \n",
      "Date                                               \n",
      "2024-05-01           NaN           NaN        NaN  \n",
      "2024-05-02           NaN           NaN        NaN  \n",
      "2024-05-03           NaN           NaN        NaN  \n",
      "2024-05-04           NaN           NaN        NaN  \n",
      "2024-05-05           NaN           NaN        NaN  \n",
      "...                  ...           ...        ...  \n",
      "2024-11-29  92555.998438  78382.731484  68.175706  \n",
      "2024-11-30  93354.741797  79062.810781  65.500822  \n",
      "2024-12-01  93783.657031  79744.546094  66.656795  \n",
      "2024-12-02  94179.131641  80404.824688  62.798385  \n",
      "2024-12-03  94450.031641  81003.945469  63.021422  \n",
      "\n",
      "[217 rows x 11 columns]\n"
     ]
    }
   ],
   "source": [
    "# Calculate RSI using the 'Close_BTC-USD' column\n",
    "data['RSI'] = RSIIndicator(close=data['Close_BTC-USD'], window=14).rsi()\n",
    "\n",
    "# Print the DataFrame to verify\n",
    "print(data.head(1000))"
   ]
  },
  {
   "cell_type": "code",
   "execution_count": 71,
   "id": "3642e3ee-6c30-4c8c-9cd5-e8bfa7fe0054",
   "metadata": {},
   "outputs": [
    {
     "name": "stdout",
     "output_type": "stream",
     "text": [
      "Date\n",
      "2024-05-01          NaN\n",
      "2024-05-02          NaN\n",
      "2024-05-03          NaN\n",
      "2024-05-04          NaN\n",
      "2024-05-05          NaN\n",
      "                ...    \n",
      "2024-11-29    68.175706\n",
      "2024-11-30    65.500822\n",
      "2024-12-01    66.656795\n",
      "2024-12-02    62.798385\n",
      "2024-12-03    63.021422\n",
      "Name: RSI, Length: 217, dtype: float64\n"
     ]
    }
   ],
   "source": [
    "# Output the RSI column as a pandas Series\n",
    "rsi_series = data['RSI']\n",
    "print(rsi_series)"
   ]
  },
  {
   "cell_type": "code",
   "execution_count": 72,
   "id": "822be3f5-b088-4593-a861-65ee67905c6e",
   "metadata": {},
   "outputs": [
    {
     "name": "stdout",
     "output_type": "stream",
     "text": [
      "            Close_BTC-USD        RSI\n",
      "Date                                \n",
      "2024-05-14   61552.789062  54.940867\n",
      "2024-05-15   66267.492188  69.620177\n",
      "2024-05-16   65231.582031  64.637531\n",
      "2024-05-17   67051.875000  68.855558\n",
      "2024-05-18   66940.804688  68.320062\n",
      "2024-05-19   66278.367188  65.069728\n",
      "2024-05-20   71448.195312  75.047107\n",
      "2024-05-21   70136.531250  69.614069\n",
      "2024-05-22   69122.335938  65.656142\n",
      "2024-05-23   67929.562500  61.245839\n"
     ]
    }
   ],
   "source": [
    "# Drop rows where RSI is NaN\n",
    "valid_data = data.dropna(subset=['RSI'])\n",
    "\n",
    "# Display the first 10 valid rows\n",
    "print(valid_data[['Close_BTC-USD', 'RSI']].head(10))"
   ]
  },
  {
   "cell_type": "code",
   "execution_count": 73,
   "id": "e5e6c38e-a99b-4c3e-b564-4761aff0ffd6",
   "metadata": {},
   "outputs": [
    {
     "name": "stdout",
     "output_type": "stream",
     "text": [
      "Index(['Adj Close_BTC-USD', 'Close_BTC-USD', 'High_BTC-USD', 'Low_BTC-USD',\n",
      "       'Open_BTC-USD', 'Volume_BTC-USD', 'Support', 'Resistance', 'SMA_20',\n",
      "       'SMA_50', 'RSI'],\n",
      "      dtype='object')\n"
     ]
    }
   ],
   "source": [
    "print(data.columns)  # Check for 'RSI' and 'CloseBTC-USD'"
   ]
  },
  {
   "cell_type": "code",
   "execution_count": 74,
   "id": "c93f9487-c55c-4e03-9d6f-8069c22b6247",
   "metadata": {},
   "outputs": [
    {
     "name": "stdout",
     "output_type": "stream",
     "text": [
      "['Adj Close_BTC-USD', 'Close_BTC-USD', 'High_BTC-USD', 'Low_BTC-USD', 'Open_BTC-USD', 'Volume_BTC-USD', 'Support', 'Resistance', 'SMA_20', 'SMA_50', 'RSI']\n"
     ]
    }
   ],
   "source": [
    "print(data.columns.tolist())  # Look for unexpected spaces or formatting issues"
   ]
  },
  {
   "cell_type": "code",
   "execution_count": 75,
   "id": "60a28f4e-8921-4e78-a5a6-8cfeffb4c9bb",
   "metadata": {},
   "outputs": [],
   "source": [
    "# Prepare the data\n",
    "features = ['Support', 'Resistance', 'SMA_20', 'SMA_50', 'RSI']\n",
    "target = 'Close_BTC-USD'"
   ]
  },
  {
   "cell_type": "code",
   "execution_count": 76,
   "id": "7f390302-6a0d-48b9-93e5-a9b7f2e62c8f",
   "metadata": {},
   "outputs": [],
   "source": [
    "# Drop rows with NaN values in features or target\n",
    "cleaned_data = data.dropna(subset=features + [target])"
   ]
  },
  {
   "cell_type": "code",
   "execution_count": 77,
   "id": "97c06abb-a7fc-4c58-8b0e-54e9701498c0",
   "metadata": {},
   "outputs": [],
   "source": [
    "# Split into features (X) and target (y)\n",
    "X = cleaned_data[features]\n",
    "y = cleaned_data[target]"
   ]
  },
  {
   "cell_type": "code",
   "execution_count": 78,
   "id": "86dcab19-4608-46ab-903e-f69f4747fa62",
   "metadata": {},
   "outputs": [],
   "source": [
    "from sklearn.model_selection import train_test_split\n",
    "from sklearn.linear_model import LinearRegression\n",
    "from sklearn.metrics import mean_squared_error, r2_score\n",
    "import matplotlib.pyplot as plt"
   ]
  },
  {
   "cell_type": "code",
   "execution_count": 79,
   "id": "7c78b10d-f5c3-4bac-a792-b7a880949b11",
   "metadata": {},
   "outputs": [],
   "source": [
    "# Split into train and test sets\n",
    "X_train, X_test, y_train, y_test = train_test_split(X, y, test_size=0.2, random_state=42)"
   ]
  },
  {
   "cell_type": "code",
   "execution_count": 80,
   "id": "20ae89f6-0716-482e-94a3-d573d3eb0987",
   "metadata": {},
   "outputs": [
    {
     "data": {
      "text/html": [
       "<style>#sk-container-id-3 {color: black;background-color: white;}#sk-container-id-3 pre{padding: 0;}#sk-container-id-3 div.sk-toggleable {background-color: white;}#sk-container-id-3 label.sk-toggleable__label {cursor: pointer;display: block;width: 100%;margin-bottom: 0;padding: 0.3em;box-sizing: border-box;text-align: center;}#sk-container-id-3 label.sk-toggleable__label-arrow:before {content: \"▸\";float: left;margin-right: 0.25em;color: #696969;}#sk-container-id-3 label.sk-toggleable__label-arrow:hover:before {color: black;}#sk-container-id-3 div.sk-estimator:hover label.sk-toggleable__label-arrow:before {color: black;}#sk-container-id-3 div.sk-toggleable__content {max-height: 0;max-width: 0;overflow: hidden;text-align: left;background-color: #f0f8ff;}#sk-container-id-3 div.sk-toggleable__content pre {margin: 0.2em;color: black;border-radius: 0.25em;background-color: #f0f8ff;}#sk-container-id-3 input.sk-toggleable__control:checked~div.sk-toggleable__content {max-height: 200px;max-width: 100%;overflow: auto;}#sk-container-id-3 input.sk-toggleable__control:checked~label.sk-toggleable__label-arrow:before {content: \"▾\";}#sk-container-id-3 div.sk-estimator input.sk-toggleable__control:checked~label.sk-toggleable__label {background-color: #d4ebff;}#sk-container-id-3 div.sk-label input.sk-toggleable__control:checked~label.sk-toggleable__label {background-color: #d4ebff;}#sk-container-id-3 input.sk-hidden--visually {border: 0;clip: rect(1px 1px 1px 1px);clip: rect(1px, 1px, 1px, 1px);height: 1px;margin: -1px;overflow: hidden;padding: 0;position: absolute;width: 1px;}#sk-container-id-3 div.sk-estimator {font-family: monospace;background-color: #f0f8ff;border: 1px dotted black;border-radius: 0.25em;box-sizing: border-box;margin-bottom: 0.5em;}#sk-container-id-3 div.sk-estimator:hover {background-color: #d4ebff;}#sk-container-id-3 div.sk-parallel-item::after {content: \"\";width: 100%;border-bottom: 1px solid gray;flex-grow: 1;}#sk-container-id-3 div.sk-label:hover label.sk-toggleable__label {background-color: #d4ebff;}#sk-container-id-3 div.sk-serial::before {content: \"\";position: absolute;border-left: 1px solid gray;box-sizing: border-box;top: 0;bottom: 0;left: 50%;z-index: 0;}#sk-container-id-3 div.sk-serial {display: flex;flex-direction: column;align-items: center;background-color: white;padding-right: 0.2em;padding-left: 0.2em;position: relative;}#sk-container-id-3 div.sk-item {position: relative;z-index: 1;}#sk-container-id-3 div.sk-parallel {display: flex;align-items: stretch;justify-content: center;background-color: white;position: relative;}#sk-container-id-3 div.sk-item::before, #sk-container-id-3 div.sk-parallel-item::before {content: \"\";position: absolute;border-left: 1px solid gray;box-sizing: border-box;top: 0;bottom: 0;left: 50%;z-index: -1;}#sk-container-id-3 div.sk-parallel-item {display: flex;flex-direction: column;z-index: 1;position: relative;background-color: white;}#sk-container-id-3 div.sk-parallel-item:first-child::after {align-self: flex-end;width: 50%;}#sk-container-id-3 div.sk-parallel-item:last-child::after {align-self: flex-start;width: 50%;}#sk-container-id-3 div.sk-parallel-item:only-child::after {width: 0;}#sk-container-id-3 div.sk-dashed-wrapped {border: 1px dashed gray;margin: 0 0.4em 0.5em 0.4em;box-sizing: border-box;padding-bottom: 0.4em;background-color: white;}#sk-container-id-3 div.sk-label label {font-family: monospace;font-weight: bold;display: inline-block;line-height: 1.2em;}#sk-container-id-3 div.sk-label-container {text-align: center;}#sk-container-id-3 div.sk-container {/* jupyter's `normalize.less` sets `[hidden] { display: none; }` but bootstrap.min.css set `[hidden] { display: none !important; }` so we also need the `!important` here to be able to override the default hidden behavior on the sphinx rendered scikit-learn.org. See: https://github.com/scikit-learn/scikit-learn/issues/21755 */display: inline-block !important;position: relative;}#sk-container-id-3 div.sk-text-repr-fallback {display: none;}</style><div id=\"sk-container-id-3\" class=\"sk-top-container\"><div class=\"sk-text-repr-fallback\"><pre>LinearRegression()</pre><b>In a Jupyter environment, please rerun this cell to show the HTML representation or trust the notebook. <br />On GitHub, the HTML representation is unable to render, please try loading this page with nbviewer.org.</b></div><div class=\"sk-container\" hidden><div class=\"sk-item\"><div class=\"sk-estimator sk-toggleable\"><input class=\"sk-toggleable__control sk-hidden--visually\" id=\"sk-estimator-id-3\" type=\"checkbox\" checked><label for=\"sk-estimator-id-3\" class=\"sk-toggleable__label sk-toggleable__label-arrow\">LinearRegression</label><div class=\"sk-toggleable__content\"><pre>LinearRegression()</pre></div></div></div></div></div>"
      ],
      "text/plain": [
       "LinearRegression()"
      ]
     },
     "execution_count": 80,
     "metadata": {},
     "output_type": "execute_result"
    }
   ],
   "source": [
    "# Train a Linear Regression model\n",
    "model = LinearRegression()\n",
    "model.fit(X_train, y_train)"
   ]
  },
  {
   "cell_type": "code",
   "execution_count": 81,
   "id": "559b8612-3dc8-4492-903e-95aa17058432",
   "metadata": {},
   "outputs": [],
   "source": [
    "# Make predictions\n",
    "y_pred = model.predict(X_test)"
   ]
  },
  {
   "cell_type": "code",
   "execution_count": 82,
   "id": "d24818a6-ce51-4122-a59e-fd10fef625f8",
   "metadata": {},
   "outputs": [],
   "source": [
    "# Evaluate the model\n",
    "mse = mean_squared_error(y_test, y_pred)\n",
    "r2 = r2_score(y_test, y_pred)"
   ]
  },
  {
   "cell_type": "code",
   "execution_count": 83,
   "id": "3b46c678-6739-4f28-814d-f083a4e127c6",
   "metadata": {},
   "outputs": [
    {
     "name": "stdout",
     "output_type": "stream",
     "text": [
      "Mean Squared Error: 640895.2792712963\n",
      "R-squared Score: 0.9951828940630852\n"
     ]
    }
   ],
   "source": [
    "print(f\"Mean Squared Error: {mse}\")\n",
    "print(f\"R-squared Score: {r2}\")"
   ]
  },
  {
   "cell_type": "code",
   "execution_count": 84,
   "id": "e121c00d-58d3-43fd-9400-0d1a887652ab",
   "metadata": {},
   "outputs": [
    {
     "name": "stdout",
     "output_type": "stream",
     "text": [
      "Normalized MSE: 14.226654475066802\n"
     ]
    }
   ],
   "source": [
    "# Calculate the price range\n",
    "price_range = data['Close_BTC-USD'].max() - data['Close_BTC-USD'].min()\n",
    "\n",
    "# Normalize MSE\n",
    "normalized_mse = mse / price_range\n",
    "print(\"Normalized MSE:\", normalized_mse)"
   ]
  },
  {
   "cell_type": "code",
   "execution_count": 86,
   "id": "9b6bd986-d9b4-4208-8000-71ccf6fb00f4",
   "metadata": {},
   "outputs": [
    {
     "data": {
      "image/png": "[encoded data removed]",
      "text/plain": [
       "<Figure size 1000x600 with 1 Axes>"
      ]
     },
     "metadata": {},
     "output_type": "display_data"
    }
   ],
   "source": [
    "# Visualize predictions vs actual values\n",
    "plt.figure(figsize=(10, 6))\n",
    "plt.scatter(range(len(y_test)), y_test, label=\"Actual Prices\", color=\"blue\", alpha=0.6)\n",
    "plt.scatter(range(len(y_pred)), y_pred, label=\"Predicted Prices\", color=\"red\", alpha=0.6)\n",
    "plt.legend()\n",
    "plt.title(\"Actual vs Predicted Prices\")\n",
    "plt.xlabel(\"Sample\")\n",
    "plt.ylabel(\"Price\")\n",
    "plt.show()"
   ]
  },
  {
   "cell_type": "code",
   "execution_count": null,
   "id": "2bef7ec5",
   "metadata": {},
   "outputs": [],
   "source": []
  }
 ],
 "metadata": {
  "kernelspec": {
   "display_name": "Python 3 (ipykernel)",
   "language": "python",
   "name": "python3"
  },
  "language_info": {
   "codemirror_mode": {
    "name": "ipython",
    "version": 3
   },
   "file_extension": ".py",
   "mimetype": "text/x-python",
   "name": "python",
   "nbconvert_exporter": "python",
   "pygments_lexer": "ipython3",
   "version": "3.11.3"
  }
 },
 "nbformat": 4,
 "nbformat_minor": 5
}
